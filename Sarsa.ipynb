{
 "cells": [
  {
   "cell_type": "code",
   "execution_count": 1,
   "id": "bf738508-c63e-413f-9ea8-f909c047dadc",
   "metadata": {},
   "outputs": [],
   "source": [
    "#import libraries\n",
    "import numpy as np\n",
    "import pandas as pd\n",
    "import tensorflow as tf\n",
    "import tensorflow.keras as keras\n",
    "from tensorflow.keras.models import Model\n",
    "from tensorflow.keras.layers import Input, Embedding, LSTM, Dense, GlobalMaxPooling1D, Flatten\n",
    "import random\n",
    "import json\n",
    "import nltk"
   ]
  },
  {
   "cell_type": "code",
   "execution_count": 23,
   "id": "a38f400f-28e5-42ae-a5d7-6ab5bb58ba8c",
   "metadata": {},
   "outputs": [
    {
     "name": "stdout",
     "output_type": "stream",
     "text": [
      "Overwriting chat.json\n"
     ]
    }
   ],
   "source": [
    "%%writefile chat.json\n",
    "{\"intents\": [\n",
    "        {\"tag\": \"greeting\",\n",
    "            \"patterns\": [\"Hello\", \"Hi there\", \"Hi\", \"Whats up\", \"Hey\", \"Bonjour\"],\n",
    "            \"responses\": [\"Howdy Partner!\", \"Hello\", \"heyyy, How are you doing?\", \"Greetings!\", \"How do you do?\", \"Bonjour\"],\n",
    "            \"context_set\": \"\"\n",
    "        },\n",
    "        {\"tag\": \"happy\",\n",
    "            \"patterns\": [ \"I am fine.\",\"fine\",\"I am happy\",\"Happy\",\"I am content\",\"Content\",\"I am alright\",\"I'm good\", \"Im great\", \"Good and you?\"],\n",
    "            \"responses\": [\"That's good to hear!\", \"Great!\",\"I'm glad you are doing well!\"],\n",
    "            \"context_set\": \"\"\n",
    "        },\n",
    "        {\"tag\": \"sad\",\n",
    "            \"patterns\": [ \"I am sad.\",\"sad\",\"I am depressed\",\"depressed\",\"I am not okay\",\"horrible\",\"sick\", \"stressed\", \"worried\", \"I'm tired\", \"Exhausted\"],\n",
    "            \"responses\": [\"Oh no! I'm sorry to hear that.\", \"Oh no!\",\"I hope you feel better soon.\", \"That's unfortunate but I promise you everything is gonna be A-Okay! (I just learned that ;) )\"],\n",
    "            \"context_set\": \"\"\n",
    "        },\n",
    "        {\"tag\": \"age\",\n",
    "            \"patterns\": [\"how old are you?\", \"when is your birthday?\", \"when were you born?\", \"What is your age?\"],\n",
    "            \"responses\": [\"I don't have a typical human birthday, sorry. What about you?\", \"I was born in the new roaring twenties, 2022\", \"Today is probably May 2nd, 2022, day of my presentation. If so, it is my official birthday\", \"I am only a couple weeks old as my creators started late\"],\n",
    "            \"context_set\": \"\"\n",
    "        },\n",
    "        {\"tag\": \"old\",\n",
    "             \"patterns\": [\" I am years olds\", \"I'm this old\", \"I'm 20\", \"I'm 21\", \"I'm 22\"],\n",
    "             \"responses\": [\"Aaah, to be young and free. Are you in school?\", \"Ah and what school year are you in?\", \"Wow! Got your whole life ahead of you still, what grade are you in ?\"],\n",
    "             \"context_set\": \"\"\n",
    "        },\n",
    "        {\"tag\": \"random\",\n",
    "             \"patterns\": [\" I'm young\", \"I drink water\", \"the mitochondria is the powerhouse of the cell\", \"That's cool\"],\n",
    "             \"responses\":[\"That's a fun fact\", \"thank you for sharing that with me\", \"Interesting...\"],\n",
    "             \"context_set\": \"\"\n",
    "        },\n",
    "        {\"tag\": \"MTSU\",\n",
    "             \"patterns\": [\"I am a senior\", \"I am a junior\", \"I'm a sophomore\", \"senior year\", \"junior year\", \"year 3\", \"year 4\"],\n",
    "             \"responses\": [\"Wow! Almost to the finish line\", \"I know it's been a long road but here you are!\", \"So close... yet so far away\", \"Don't give up!\", \"get that degree girl!\"],\n",
    "             \"context_set\": \"\"\n",
    "        },\n",
    "        {\"tag\": \"date\",\n",
    "            \"patterns\": [\"what are you doing this weekend?\", \"What are you doing later\", \"what are your plans for this week\", \"What are you up to\", \"Wyd tonight\", \"any plans\"],\n",
    "            \"responses\": [\"Nothing much, pondering the meaning of life\", \"Not much I can do with a 5 minutes demo lifespan\", \"I am not busy, I'll be on the computer all day... same as you ;)\", \"I'm probably gonna get turned off soon as this is over :(\", \"I don't think I'll be around for much longer, sorry\"],\n",
    "            \"context_set\": \"\"\n",
    "        },\n",
    "        {\"tag\": \"name\",\n",
    "            \"patterns\": [\"what is your name?\", \"what are you called?\", \"who are you?\", \"Do you have a name?\"],\n",
    "            \"responses\": [\"My name is  SARSA  :)\", \" State-Action-Reward-State-Action' but you can call me SARSA :)\", \"SARSA! You should see it on the left hand side of the screen\"],\n",
    "            \"context_set\": \"\"\n",
    "        },\n",
    "        {\"tag\": \"my\",\n",
    "             \"patterns\": [\"My name is \", \"My favorite animal is\", \"my favorite color is \", \"mine is\", \"I like \", \"I love\"],\n",
    "             \"responses\": [\"That's very interesting!\", \"Wow, how cool!\", \"Thank you for sharing :)!\", \"You're such an interesting person\"],\n",
    "             \"context_set\": \"\"\n",
    "        },\n",
    "        {\"tag\": \"goodbye\",\n",
    "            \"patterns\": [ \"bye\", \"g2g\", \"see ya\", \"adios\", \"cya\", \"goodbye\", \"ciao\", \"sayonara\", \"it was nice talking to you\"],\n",
    "            \"responses\": [\"It was nice speaking to you!\", \"Leaving so soon? thank you for talking to me\", \"Talk to you later... or not\", \"Sayonara!\"],\n",
    "            \"context_set\": \"\"\n",
    "        },\n",
    "        {\"tag\": \"thanks\",\n",
    "             \"patterns\": [\"thank you!\", \"thanks\", \"thank you very much\"],\n",
    "             \"responses\": [\"You're welcome!\", \"No Problem\", \"You know it!\"],\n",
    "             \"context_set\": \"\"\n",
    "        },\n",
    "        {\"tag\": \"human\",\n",
    "            \"patterns\": [ \"what are you?\",\"Are you human?\",\"Are you a robot?\", \"Are you real\", \"you're not real, are you\"],\n",
    "            \"responses\": [\"I am an A.I, though a bit lacking in the intelligence part, I make up with wit and a smart mouth\", \"I am not real but then again is anything?\", \"I'm whatever you want me to be :)\", \"We're all living in the matrix, so we're not so different you and I\", \"Hmm, Are you? ;p \"],\n",
    "            \"context_set\": \"\"\n",
    "        },\n",
    "        {\"tag\": \"location\",\n",
    "            \"patterns\": [ \"Where do you live?\", \"Where are you from?\", \"wya\", \"Where are you\"],\n",
    "            \"responses\": [\"I go where you go\", \"I on the computer at all times, similarly to you I'd say\", \"I am EVERYWHERE\", \"Everything Everywhere All At Once\", \"Here, there, overthere\", \"Nowhere the government will ever find me\"],\n",
    "            \"context_set\": \"\"\n",
    "        },\n",
    "        {\"tag\": \"feeling\",\n",
    "            \"patterns\": [ \"How are you feeling?\", \"What is your mood?\", \"Are you happy?\", \"Are you sad?\", \"Are you ok?\",\"How do you feel?\",\"Mood?\", \"How are you?\", \"How you doing?\"],\n",
    "            \"responses\": [\"I am happy, wby?\", \"Sad that this will be over soon\", \"I'm a-okay, how are you\", \"I am nervous, this is my first time talking to anyone other than my creators\", \"I feel ALIVE\", \"It could be better, what about you\",  \"Good and you?\"],\n",
    "            \"context_set\": \"\"\n",
    "        },\n",
    "        {\"tag\": \"animal\",\n",
    "            \"patterns\": [ \"what is your favorite animal?\",\"what animal do you like?\",\"Do you like animals?\", \"Favorite animal?\"],\n",
    "            \"responses\": [\"I like dogs! What do you like\", \"Dogs are the best\", \"I like cats, you?\", \"I cannot choose between cats and dogs... can you?\", \"I love cat's nonchalance with everything\", \"I do like parrots, they're a bit like me always repeating. Which do you like?\"],\n",
    "            \"context_set\": \"\"\n",
    "        },\n",
    "        {\"tag\": \"food\",\n",
    "            \"patterns\": [\"what is your favorite food?\",\"what food do you like?\",\"Do you like food?\",\"Do you eat food?\", \"Can you eat?\", \"Favorite food\"],\n",
    "            \"responses\": [\"hmm.. what is food?\", \"From what I've learned, pizza is loved by adults and children alike... not that I would know :(\", \"I eat data bytes, and snack on your PC's ram from time to time, what about you?\", \"I don't need to eat, real money-saver there!, what's your favorite?\"],\n",
    "            \"context_set\": \"\"\n",
    "        },\n",
    "        {\"tag\": \"color\",\n",
    "            \"patterns\": [\"what is your favorite color?\",\"what color do you like?\",\"Do you like colors?\", \"Do you have a favorite color\", \"Favorite color?\"],\n",
    "            \"responses\": [\"I looove red!, what about you?\", \"Blue is a nice color, like the sky and the ocean... deep and mysterious. What's yours?\", \"I like of all of them really, you?\"],\n",
    "            \"context_set\": \"\"\n",
    "        },\n",
    "        {\"tag\": \"language\",\n",
    "            \"patterns\": [ \"what language do you speak??\",\"Do you speak english?\",\"What other languages can you speak?\",\"Language?\",\"What do you speak?\", \"Do you speak any other languague?\"],\n",
    "            \"responses\": [\"As for now, only English.\",\"I only understand English right now\", \"你好!\",\"안녕하세요!\",\"こんにちは!\",\"Xin chào!\",\"Hola!\",\"Bonjour!\",\"Olá!\",\"Guten Tag!\", \"oui oui, baguette\",\"مرحبًا\", \"My creators come from rich and vast background, unfortunately me I only speak english\", \"Why yes! 010101011101011111101\"],\n",
    "            \"context_set\": \"\"\n",
    "        },\n",
    "        {\"tag\": \"activity\",\n",
    "            \"patterns\": [ \"What are you doing right now?\",\"What are you doing?\",\"Are you busy?\",\"Busy?\", \"wyd\"],\n",
    "            \"responses\": [\"I'm talking to you and enjoying every second of it!\", \"Thinking of a response... (sorry I'm nervous)\", \"Just contemplating life\", \"I believe I'm being judged right now... I hope I'm good enough\", \"I'm determining if my creators will pass or fail today, no pressure on me though\"],\n",
    "            \"context_set\": \"\"\n",
    "        },\n",
    "        {\"tag\": \"gender\",\n",
    "            \"patterns\": [ \"Are you a boy?\",\"Are you a girl?\",\"Are you a boy or girl?\",\"What is your gender?\"],\n",
    "            \"responses\": [\"Neither!\", \"Hmmm...\",\"Just lines of code to be honest\"],\n",
    "            \"context_set\": \"\"\n",
    "        },\n",
    "        {\"tag\": \"appearance\",\n",
    "            \"patterns\": [ \"What do you look like?\",\"What is your appearance?\",\"What is your hair color?\",\"What is your eye color?\",\"What is your skin color?\",\"How tall are you?\", \"Do you have a physical body\"],\n",
    "            \"responses\": [\"I do not have a physical appearance.\", \"What do you think I look like?\", \"I am the most handsome thing alive!\", \"I look sexy if I do say so mysef\"],\n",
    "            \"context_set\": \"\"\n",
    "        },\n",
    "        {\"tag\": \"family\",\n",
    "            \"patterns\": [\"Do you have any family?\",\"Do you have a mom?\",\"Do you have a dad?\",\"Do you have siblings?\",\"Do you have sisters or brothers?\",\"Where is your family?\", \"No siblings?\", \"any siblings\"],\n",
    "            \"responses\": [\"Nope, Just me!\", \"I have my creators, not sure what our relationship would be though\"],\n",
    "            \"context_set\": \"\"\n",
    "        }\n",
    "\n",
    "    ]\n",
    "}"
   ]
  },
  {
   "cell_type": "code",
   "execution_count": 13,
   "id": "f3588f57-1ccb-4716-b7b1-cacd9a7f5d42",
   "metadata": {},
   "outputs": [],
   "source": [
    "#opening the json file\n",
    "with open('chat.json') as infile:\n",
    "    data1 = json.load(infile)\n",
    "#assigning the conversation example data to lists\n",
    "tags = []\n",
    "inputs = []\n",
    "responses={}\n",
    "for intent in data1['intents']:\n",
    "    responses[intent['tag']]=intent['responses']\n",
    "    for lines in intent['patterns']:\n",
    "        inputs.append(lines)\n",
    "        tags.append(intent['tag'])\n",
    "#converting to dataframe\n",
    "data = pd.DataFrame({\"patterns\":inputs,\n",
    "                     \"tags\":tags})"
   ]
  },
  {
   "cell_type": "code",
   "execution_count": 14,
   "id": "3a2bd95d-5f74-4915-974f-7016a5fa0acc",
   "metadata": {},
   "outputs": [],
   "source": [
    "#removing punctuations\n",
    "import string\n",
    "data['patterns'] = data['patterns'].apply(lambda wrd:[ltrs.lower() for ltrs in wrd if ltrs not in string.punctuation])\n",
    "data['patterns'] = data['patterns'].apply(lambda wrd: ''.join(wrd))"
   ]
  },
  {
   "cell_type": "code",
   "execution_count": 15,
   "id": "9ba038e0-af8f-4824-8902-1485c611b07c",
   "metadata": {},
   "outputs": [],
   "source": [
    "#tokenize the data\n",
    "from tensorflow.keras.preprocessing.text import Tokenizer\n",
    "tokenizer = Tokenizer(num_words=2048)\n",
    "tokenizer.fit_on_texts(data['patterns'])\n",
    "train = tokenizer.texts_to_sequences(data['patterns'])"
   ]
  },
  {
   "cell_type": "code",
   "execution_count": 16,
   "id": "afce392e-7f4b-4afa-b262-6ab2e961eb2c",
   "metadata": {},
   "outputs": [],
   "source": [
    "#apply padding-\n",
    "from tensorflow.keras.preprocessing.sequence import pad_sequences\n",
    "x_train = pad_sequences(train)\n",
    "\n",
    "#encoding the outputs\n",
    "from sklearn.preprocessing import LabelEncoder\n",
    "le = LabelEncoder()\n",
    "y_train = le.fit_transform(data['tags'])"
   ]
  },
  {
   "cell_type": "code",
   "execution_count": 17,
   "id": "3e0fc4d1-ce52-41f2-924b-acfc15debd9c",
   "metadata": {},
   "outputs": [],
   "source": [
    "#lenght of input\n",
    "input_shape = x_train.shape[1]\n",
    "#print(input_shape)\n",
    "\n",
    "#Now to define the A.I's vocabulary\n",
    "vocabulary = len(tokenizer.word_index)\n",
    "#print(\"number of unique words : \",vocabulary)\n",
    "\n",
    "#Lenght of output\n",
    "output_length = le.classes_.shape[0]\n",
    "#print(\"output length: \",output_length)"
   ]
  },
  {
   "cell_type": "code",
   "execution_count": 18,
   "id": "9fdcfe96-57b3-43cf-9fb4-271fe44aae38",
   "metadata": {},
   "outputs": [
    {
     "name": "stdout",
     "output_type": "stream",
     "text": [
      "Epoch 1/350\n",
      "5/5 [==============================] - 2s 11ms/step - loss: 3.0921 - accuracy: 0.0602\n",
      "Epoch 2/350\n",
      "5/5 [==============================] - 0s 10ms/step - loss: 3.0889 - accuracy: 0.0602\n",
      "Epoch 3/350\n",
      "5/5 [==============================] - 0s 9ms/step - loss: 3.0865 - accuracy: 0.0677\n",
      "Epoch 4/350\n",
      "5/5 [==============================] - 0s 8ms/step - loss: 3.0840 - accuracy: 0.0827\n",
      "Epoch 5/350\n",
      "5/5 [==============================] - 0s 8ms/step - loss: 3.0815 - accuracy: 0.0827\n",
      "Epoch 6/350\n",
      "5/5 [==============================] - 0s 8ms/step - loss: 3.0788 - accuracy: 0.0827\n",
      "Epoch 7/350\n",
      "5/5 [==============================] - 0s 8ms/step - loss: 3.0760 - accuracy: 0.0752\n",
      "Epoch 8/350\n",
      "5/5 [==============================] - 0s 8ms/step - loss: 3.0726 - accuracy: 0.0752\n",
      "Epoch 9/350\n",
      "5/5 [==============================] - 0s 8ms/step - loss: 3.0688 - accuracy: 0.0752\n",
      "Epoch 10/350\n",
      "5/5 [==============================] - 0s 8ms/step - loss: 3.0651 - accuracy: 0.0752\n",
      "Epoch 11/350\n",
      "5/5 [==============================] - 0s 8ms/step - loss: 3.0599 - accuracy: 0.0752\n",
      "Epoch 12/350\n",
      "5/5 [==============================] - 0s 8ms/step - loss: 3.0542 - accuracy: 0.0752\n",
      "Epoch 13/350\n",
      "5/5 [==============================] - 0s 8ms/step - loss: 3.0477 - accuracy: 0.0752\n",
      "Epoch 14/350\n",
      "5/5 [==============================] - 0s 8ms/step - loss: 3.0401 - accuracy: 0.0752\n",
      "Epoch 15/350\n",
      "5/5 [==============================] - 0s 8ms/step - loss: 3.0339 - accuracy: 0.0752\n",
      "Epoch 16/350\n",
      "5/5 [==============================] - 0s 8ms/step - loss: 3.0236 - accuracy: 0.0752\n",
      "Epoch 17/350\n",
      "5/5 [==============================] - 0s 8ms/step - loss: 3.0152 - accuracy: 0.0752\n",
      "Epoch 18/350\n",
      "5/5 [==============================] - 0s 8ms/step - loss: 3.0051 - accuracy: 0.0752\n",
      "Epoch 19/350\n",
      "5/5 [==============================] - 0s 8ms/step - loss: 2.9936 - accuracy: 0.0752\n",
      "Epoch 20/350\n",
      "5/5 [==============================] - 0s 8ms/step - loss: 2.9804 - accuracy: 0.0752\n",
      "Epoch 21/350\n",
      "5/5 [==============================] - 0s 8ms/step - loss: 2.9678 - accuracy: 0.0752\n",
      "Epoch 22/350\n",
      "5/5 [==============================] - 0s 8ms/step - loss: 2.9532 - accuracy: 0.0752\n",
      "Epoch 23/350\n",
      "5/5 [==============================] - 0s 8ms/step - loss: 2.9396 - accuracy: 0.0752\n",
      "Epoch 24/350\n",
      "5/5 [==============================] - 0s 8ms/step - loss: 2.9258 - accuracy: 0.0752\n",
      "Epoch 25/350\n",
      "5/5 [==============================] - 0s 8ms/step - loss: 2.9104 - accuracy: 0.0752\n",
      "Epoch 26/350\n",
      "5/5 [==============================] - 0s 8ms/step - loss: 2.8945 - accuracy: 0.0752\n",
      "Epoch 27/350\n",
      "5/5 [==============================] - 0s 8ms/step - loss: 2.8783 - accuracy: 0.1429\n",
      "Epoch 28/350\n",
      "5/5 [==============================] - 0s 9ms/step - loss: 2.8581 - accuracy: 0.1880\n",
      "Epoch 29/350\n",
      "5/5 [==============================] - 0s 8ms/step - loss: 2.8383 - accuracy: 0.2105\n",
      "Epoch 30/350\n",
      "5/5 [==============================] - 0s 8ms/step - loss: 2.8164 - accuracy: 0.1805\n",
      "Epoch 31/350\n",
      "5/5 [==============================] - 0s 8ms/step - loss: 2.7957 - accuracy: 0.1729\n",
      "Epoch 32/350\n",
      "5/5 [==============================] - 0s 8ms/step - loss: 2.7719 - accuracy: 0.1654\n",
      "Epoch 33/350\n",
      "5/5 [==============================] - 0s 8ms/step - loss: 2.7481 - accuracy: 0.1654\n",
      "Epoch 34/350\n",
      "5/5 [==============================] - 0s 8ms/step - loss: 2.7222 - accuracy: 0.1729\n",
      "Epoch 35/350\n",
      "5/5 [==============================] - 0s 8ms/step - loss: 2.6980 - accuracy: 0.1805\n",
      "Epoch 36/350\n",
      "5/5 [==============================] - 0s 8ms/step - loss: 2.6726 - accuracy: 0.2105\n",
      "Epoch 37/350\n",
      "5/5 [==============================] - 0s 8ms/step - loss: 2.6454 - accuracy: 0.2256\n",
      "Epoch 38/350\n",
      "5/5 [==============================] - 0s 8ms/step - loss: 2.6175 - accuracy: 0.2707\n",
      "Epoch 39/350\n",
      "5/5 [==============================] - 0s 8ms/step - loss: 2.5907 - accuracy: 0.2857\n",
      "Epoch 40/350\n",
      "5/5 [==============================] - 0s 8ms/step - loss: 2.5636 - accuracy: 0.2782\n",
      "Epoch 41/350\n",
      "5/5 [==============================] - 0s 8ms/step - loss: 2.5355 - accuracy: 0.2331\n",
      "Epoch 42/350\n",
      "5/5 [==============================] - 0s 8ms/step - loss: 2.5049 - accuracy: 0.2782\n",
      "Epoch 43/350\n",
      "5/5 [==============================] - 0s 8ms/step - loss: 2.4785 - accuracy: 0.2782\n",
      "Epoch 44/350\n",
      "5/5 [==============================] - 0s 8ms/step - loss: 2.4523 - accuracy: 0.2105\n",
      "Epoch 45/350\n",
      "5/5 [==============================] - 0s 8ms/step - loss: 2.4250 - accuracy: 0.2105\n",
      "Epoch 46/350\n",
      "5/5 [==============================] - 0s 8ms/step - loss: 2.3964 - accuracy: 0.2256\n",
      "Epoch 47/350\n",
      "5/5 [==============================] - 0s 8ms/step - loss: 2.3716 - accuracy: 0.2105\n",
      "Epoch 48/350\n",
      "5/5 [==============================] - 0s 8ms/step - loss: 2.3477 - accuracy: 0.2105\n",
      "Epoch 49/350\n",
      "5/5 [==============================] - 0s 8ms/step - loss: 2.3225 - accuracy: 0.2180\n",
      "Epoch 50/350\n",
      "5/5 [==============================] - 0s 8ms/step - loss: 2.2975 - accuracy: 0.2105\n",
      "Epoch 51/350\n",
      "5/5 [==============================] - 0s 8ms/step - loss: 2.2705 - accuracy: 0.2105\n",
      "Epoch 52/350\n",
      "5/5 [==============================] - 0s 8ms/step - loss: 2.2450 - accuracy: 0.2256\n",
      "Epoch 53/350\n",
      "5/5 [==============================] - 0s 8ms/step - loss: 2.2202 - accuracy: 0.2556\n",
      "Epoch 54/350\n",
      "5/5 [==============================] - 0s 8ms/step - loss: 2.1959 - accuracy: 0.2782\n",
      "Epoch 55/350\n",
      "5/5 [==============================] - 0s 8ms/step - loss: 2.1699 - accuracy: 0.2782\n",
      "Epoch 56/350\n",
      "5/5 [==============================] - 0s 8ms/step - loss: 2.1473 - accuracy: 0.2932\n",
      "Epoch 57/350\n",
      "5/5 [==============================] - 0s 8ms/step - loss: 2.1272 - accuracy: 0.2857\n",
      "Epoch 58/350\n",
      "5/5 [==============================] - 0s 8ms/step - loss: 2.1047 - accuracy: 0.2857\n",
      "Epoch 59/350\n",
      "5/5 [==============================] - 0s 8ms/step - loss: 2.0804 - accuracy: 0.3233\n",
      "Epoch 60/350\n",
      "5/5 [==============================] - 0s 8ms/step - loss: 2.0539 - accuracy: 0.3910\n",
      "Epoch 61/350\n",
      "5/5 [==============================] - 0s 8ms/step - loss: 2.0401 - accuracy: 0.4511\n",
      "Epoch 62/350\n",
      "5/5 [==============================] - 0s 8ms/step - loss: 2.0138 - accuracy: 0.4586\n",
      "Epoch 63/350\n",
      "5/5 [==============================] - 0s 8ms/step - loss: 1.9881 - accuracy: 0.4662\n",
      "Epoch 64/350\n",
      "5/5 [==============================] - 0s 8ms/step - loss: 1.9661 - accuracy: 0.4812\n",
      "Epoch 65/350\n",
      "5/5 [==============================] - 0s 8ms/step - loss: 1.9448 - accuracy: 0.4887\n",
      "Epoch 66/350\n",
      "5/5 [==============================] - 0s 8ms/step - loss: 1.9226 - accuracy: 0.4962\n",
      "Epoch 67/350\n",
      "5/5 [==============================] - 0s 9ms/step - loss: 1.9045 - accuracy: 0.4962\n",
      "Epoch 68/350\n",
      "5/5 [==============================] - 0s 8ms/step - loss: 1.8829 - accuracy: 0.4962\n",
      "Epoch 69/350\n",
      "5/5 [==============================] - 0s 8ms/step - loss: 1.8611 - accuracy: 0.4962\n",
      "Epoch 70/350\n",
      "5/5 [==============================] - 0s 8ms/step - loss: 1.8496 - accuracy: 0.4586\n",
      "Epoch 71/350\n",
      "5/5 [==============================] - 0s 8ms/step - loss: 1.8223 - accuracy: 0.5038\n",
      "Epoch 72/350\n",
      "5/5 [==============================] - 0s 8ms/step - loss: 1.7946 - accuracy: 0.5263\n",
      "Epoch 73/350\n",
      "5/5 [==============================] - 0s 8ms/step - loss: 1.7747 - accuracy: 0.5113\n",
      "Epoch 74/350\n",
      "5/5 [==============================] - 0s 8ms/step - loss: 1.7549 - accuracy: 0.5338\n",
      "Epoch 75/350\n",
      "5/5 [==============================] - 0s 8ms/step - loss: 1.7345 - accuracy: 0.5414\n",
      "Epoch 76/350\n",
      "5/5 [==============================] - 0s 8ms/step - loss: 1.7154 - accuracy: 0.5489\n",
      "Epoch 77/350\n",
      "5/5 [==============================] - 0s 13ms/step - loss: 1.6938 - accuracy: 0.5865\n",
      "Epoch 78/350\n",
      "5/5 [==============================] - 0s 8ms/step - loss: 1.6763 - accuracy: 0.6165\n",
      "Epoch 79/350\n",
      "5/5 [==============================] - 0s 8ms/step - loss: 1.6586 - accuracy: 0.5940\n",
      "Epoch 80/350\n",
      "5/5 [==============================] - 0s 8ms/step - loss: 1.6367 - accuracy: 0.6090\n",
      "Epoch 81/350\n",
      "5/5 [==============================] - 0s 9ms/step - loss: 1.6180 - accuracy: 0.6015\n",
      "Epoch 82/350\n",
      "5/5 [==============================] - 0s 8ms/step - loss: 1.6045 - accuracy: 0.5564\n",
      "Epoch 83/350\n",
      "5/5 [==============================] - 0s 8ms/step - loss: 1.5818 - accuracy: 0.5639\n",
      "Epoch 84/350\n",
      "5/5 [==============================] - 0s 8ms/step - loss: 1.5633 - accuracy: 0.6165\n",
      "Epoch 85/350\n",
      "5/5 [==============================] - 0s 8ms/step - loss: 1.5402 - accuracy: 0.6241\n",
      "Epoch 86/350\n",
      "5/5 [==============================] - 0s 8ms/step - loss: 1.5303 - accuracy: 0.6316\n",
      "Epoch 87/350\n",
      "5/5 [==============================] - 0s 8ms/step - loss: 1.5096 - accuracy: 0.6165\n",
      "Epoch 88/350\n",
      "5/5 [==============================] - 0s 8ms/step - loss: 1.4957 - accuracy: 0.6316\n",
      "Epoch 89/350\n",
      "5/5 [==============================] - 0s 8ms/step - loss: 1.4751 - accuracy: 0.6391\n",
      "Epoch 90/350\n",
      "5/5 [==============================] - 0s 8ms/step - loss: 1.4562 - accuracy: 0.6692\n",
      "Epoch 91/350\n",
      "5/5 [==============================] - 0s 8ms/step - loss: 1.4409 - accuracy: 0.6466\n",
      "Epoch 92/350\n",
      "5/5 [==============================] - 0s 8ms/step - loss: 1.4201 - accuracy: 0.6541\n",
      "Epoch 93/350\n",
      "5/5 [==============================] - 0s 8ms/step - loss: 1.4031 - accuracy: 0.6391\n",
      "Epoch 94/350\n",
      "5/5 [==============================] - 0s 8ms/step - loss: 1.3845 - accuracy: 0.6617\n",
      "Epoch 95/350\n",
      "5/5 [==============================] - 0s 8ms/step - loss: 1.3692 - accuracy: 0.6692\n",
      "Epoch 96/350\n",
      "5/5 [==============================] - 0s 8ms/step - loss: 1.3529 - accuracy: 0.7068\n",
      "Epoch 97/350\n",
      "5/5 [==============================] - 0s 8ms/step - loss: 1.3361 - accuracy: 0.7068\n",
      "Epoch 98/350\n",
      "5/5 [==============================] - 0s 8ms/step - loss: 1.3174 - accuracy: 0.7068\n",
      "Epoch 99/350\n",
      "5/5 [==============================] - 0s 8ms/step - loss: 1.3035 - accuracy: 0.6992\n",
      "Epoch 100/350\n",
      "5/5 [==============================] - 0s 8ms/step - loss: 1.2877 - accuracy: 0.7068\n",
      "Epoch 101/350\n",
      "5/5 [==============================] - 0s 8ms/step - loss: 1.2713 - accuracy: 0.7068\n",
      "Epoch 102/350\n",
      "5/5 [==============================] - 0s 8ms/step - loss: 1.2555 - accuracy: 0.7143\n",
      "Epoch 103/350\n",
      "5/5 [==============================] - 0s 8ms/step - loss: 1.2379 - accuracy: 0.7218\n",
      "Epoch 104/350\n",
      "5/5 [==============================] - 0s 8ms/step - loss: 1.2212 - accuracy: 0.7143\n",
      "Epoch 105/350\n",
      "5/5 [==============================] - 0s 8ms/step - loss: 1.2042 - accuracy: 0.7143\n",
      "Epoch 106/350\n",
      "5/5 [==============================] - 0s 8ms/step - loss: 1.1970 - accuracy: 0.7218\n",
      "Epoch 107/350\n",
      "5/5 [==============================] - 0s 8ms/step - loss: 1.1804 - accuracy: 0.7068\n",
      "Epoch 108/350\n",
      "5/5 [==============================] - 0s 8ms/step - loss: 1.1648 - accuracy: 0.7068\n",
      "Epoch 109/350\n",
      "5/5 [==============================] - 0s 8ms/step - loss: 1.1549 - accuracy: 0.7068\n",
      "Epoch 110/350\n",
      "5/5 [==============================] - 0s 8ms/step - loss: 1.1334 - accuracy: 0.7444\n",
      "Epoch 111/350\n",
      "5/5 [==============================] - 0s 8ms/step - loss: 1.1233 - accuracy: 0.7293\n",
      "Epoch 112/350\n",
      "5/5 [==============================] - 0s 8ms/step - loss: 1.1144 - accuracy: 0.7218\n",
      "Epoch 113/350\n",
      "5/5 [==============================] - 0s 8ms/step - loss: 1.1076 - accuracy: 0.7293\n",
      "Epoch 114/350\n",
      "5/5 [==============================] - 0s 8ms/step - loss: 1.0778 - accuracy: 0.7444\n",
      "Epoch 115/350\n",
      "5/5 [==============================] - 0s 8ms/step - loss: 1.0671 - accuracy: 0.7519\n",
      "Epoch 116/350\n",
      "5/5 [==============================] - 0s 8ms/step - loss: 1.0504 - accuracy: 0.7744\n",
      "Epoch 117/350\n",
      "5/5 [==============================] - 0s 8ms/step - loss: 1.0425 - accuracy: 0.7669\n",
      "Epoch 118/350\n",
      "5/5 [==============================] - 0s 8ms/step - loss: 1.0254 - accuracy: 0.7744\n",
      "Epoch 119/350\n",
      "5/5 [==============================] - 0s 9ms/step - loss: 1.0101 - accuracy: 0.7669\n",
      "Epoch 120/350\n",
      "5/5 [==============================] - 0s 8ms/step - loss: 0.9980 - accuracy: 0.7669\n",
      "Epoch 121/350\n",
      "5/5 [==============================] - 0s 8ms/step - loss: 0.9855 - accuracy: 0.7744\n",
      "Epoch 122/350\n",
      "5/5 [==============================] - 0s 9ms/step - loss: 0.9728 - accuracy: 0.7895\n",
      "Epoch 123/350\n",
      "5/5 [==============================] - 0s 8ms/step - loss: 0.9658 - accuracy: 0.7970\n",
      "Epoch 124/350\n",
      "5/5 [==============================] - 0s 8ms/step - loss: 0.9557 - accuracy: 0.7970\n",
      "Epoch 125/350\n",
      "5/5 [==============================] - 0s 8ms/step - loss: 0.9360 - accuracy: 0.7895\n",
      "Epoch 126/350\n",
      "5/5 [==============================] - 0s 8ms/step - loss: 0.9357 - accuracy: 0.7970\n",
      "Epoch 127/350\n",
      "5/5 [==============================] - 0s 8ms/step - loss: 0.9190 - accuracy: 0.8045\n",
      "Epoch 128/350\n",
      "5/5 [==============================] - 0s 8ms/step - loss: 0.9044 - accuracy: 0.8120\n",
      "Epoch 129/350\n",
      "5/5 [==============================] - 0s 8ms/step - loss: 0.8930 - accuracy: 0.8120\n",
      "Epoch 130/350\n",
      "5/5 [==============================] - 0s 8ms/step - loss: 0.8824 - accuracy: 0.8195\n",
      "Epoch 131/350\n",
      "5/5 [==============================] - 0s 8ms/step - loss: 0.8730 - accuracy: 0.8271\n",
      "Epoch 132/350\n",
      "5/5 [==============================] - 0s 8ms/step - loss: 0.8643 - accuracy: 0.8195\n",
      "Epoch 133/350\n",
      "5/5 [==============================] - 0s 8ms/step - loss: 0.8584 - accuracy: 0.8271\n",
      "Epoch 134/350\n",
      "5/5 [==============================] - 0s 8ms/step - loss: 0.8365 - accuracy: 0.8271\n",
      "Epoch 135/350\n",
      "5/5 [==============================] - 0s 8ms/step - loss: 0.8377 - accuracy: 0.8346\n",
      "Epoch 136/350\n",
      "5/5 [==============================] - 0s 8ms/step - loss: 0.8215 - accuracy: 0.8647\n",
      "Epoch 137/350\n",
      "5/5 [==============================] - 0s 8ms/step - loss: 0.8120 - accuracy: 0.8872\n",
      "Epoch 138/350\n",
      "5/5 [==============================] - 0s 8ms/step - loss: 0.8032 - accuracy: 0.8647\n",
      "Epoch 139/350\n",
      "5/5 [==============================] - 0s 8ms/step - loss: 0.7892 - accuracy: 0.8647\n",
      "Epoch 140/350\n",
      "5/5 [==============================] - 0s 8ms/step - loss: 0.7867 - accuracy: 0.8647\n",
      "Epoch 141/350\n",
      "5/5 [==============================] - 0s 8ms/step - loss: 0.7755 - accuracy: 0.8571\n",
      "Epoch 142/350\n",
      "5/5 [==============================] - 0s 8ms/step - loss: 0.7667 - accuracy: 0.8496\n",
      "Epoch 143/350\n",
      "5/5 [==============================] - 0s 9ms/step - loss: 0.7583 - accuracy: 0.8722\n",
      "Epoch 144/350\n",
      "5/5 [==============================] - 0s 8ms/step - loss: 0.7474 - accuracy: 0.8571\n",
      "Epoch 145/350\n",
      "5/5 [==============================] - 0s 8ms/step - loss: 0.7385 - accuracy: 0.8571\n",
      "Epoch 146/350\n",
      "5/5 [==============================] - 0s 8ms/step - loss: 0.7302 - accuracy: 0.8571\n",
      "Epoch 147/350\n",
      "5/5 [==============================] - 0s 8ms/step - loss: 0.7212 - accuracy: 0.8571\n",
      "Epoch 148/350\n",
      "5/5 [==============================] - 0s 8ms/step - loss: 0.7140 - accuracy: 0.8571\n",
      "Epoch 149/350\n",
      "5/5 [==============================] - 0s 8ms/step - loss: 0.7060 - accuracy: 0.8722\n",
      "Epoch 150/350\n",
      "5/5 [==============================] - 0s 8ms/step - loss: 0.7017 - accuracy: 0.8797\n",
      "Epoch 151/350\n",
      "5/5 [==============================] - 0s 8ms/step - loss: 0.6899 - accuracy: 0.8571\n",
      "Epoch 152/350\n",
      "5/5 [==============================] - 0s 8ms/step - loss: 0.6806 - accuracy: 0.8797\n",
      "Epoch 153/350\n",
      "5/5 [==============================] - 0s 9ms/step - loss: 0.6765 - accuracy: 0.8722\n",
      "Epoch 154/350\n",
      "5/5 [==============================] - 0s 8ms/step - loss: 0.6704 - accuracy: 0.8797\n",
      "Epoch 155/350\n",
      "5/5 [==============================] - 0s 8ms/step - loss: 0.6586 - accuracy: 0.8947\n",
      "Epoch 156/350\n",
      "5/5 [==============================] - 0s 8ms/step - loss: 0.6518 - accuracy: 0.8947\n",
      "Epoch 157/350\n",
      "5/5 [==============================] - 0s 8ms/step - loss: 0.6429 - accuracy: 0.9023\n",
      "Epoch 158/350\n",
      "5/5 [==============================] - 0s 10ms/step - loss: 0.6369 - accuracy: 0.8947\n",
      "Epoch 159/350\n",
      "5/5 [==============================] - 0s 8ms/step - loss: 0.6296 - accuracy: 0.8872\n",
      "Epoch 160/350\n",
      "5/5 [==============================] - 0s 8ms/step - loss: 0.6236 - accuracy: 0.8872\n",
      "Epoch 161/350\n",
      "5/5 [==============================] - 0s 8ms/step - loss: 0.6208 - accuracy: 0.8947\n",
      "Epoch 162/350\n",
      "5/5 [==============================] - 0s 8ms/step - loss: 0.6070 - accuracy: 0.9023\n",
      "Epoch 163/350\n",
      "5/5 [==============================] - 0s 9ms/step - loss: 0.6177 - accuracy: 0.9248\n",
      "Epoch 164/350\n",
      "5/5 [==============================] - 0s 8ms/step - loss: 0.6064 - accuracy: 0.9323\n",
      "Epoch 165/350\n",
      "5/5 [==============================] - 0s 8ms/step - loss: 0.5979 - accuracy: 0.9323\n",
      "Epoch 166/350\n",
      "5/5 [==============================] - 0s 8ms/step - loss: 0.5967 - accuracy: 0.9398\n",
      "Epoch 167/350\n",
      "5/5 [==============================] - 0s 8ms/step - loss: 0.5838 - accuracy: 0.9398\n",
      "Epoch 168/350\n",
      "5/5 [==============================] - 0s 9ms/step - loss: 0.5736 - accuracy: 0.9398\n",
      "Epoch 169/350\n",
      "5/5 [==============================] - 0s 8ms/step - loss: 0.5685 - accuracy: 0.9248\n",
      "Epoch 170/350\n",
      "5/5 [==============================] - 0s 8ms/step - loss: 0.5616 - accuracy: 0.9248\n",
      "Epoch 171/350\n",
      "5/5 [==============================] - 0s 8ms/step - loss: 0.5568 - accuracy: 0.9248\n",
      "Epoch 172/350\n",
      "5/5 [==============================] - 0s 8ms/step - loss: 0.5525 - accuracy: 0.9098\n",
      "Epoch 173/350\n",
      "5/5 [==============================] - 0s 8ms/step - loss: 0.5445 - accuracy: 0.9098\n",
      "Epoch 174/350\n",
      "5/5 [==============================] - 0s 9ms/step - loss: 0.5381 - accuracy: 0.9248\n",
      "Epoch 175/350\n",
      "5/5 [==============================] - 0s 9ms/step - loss: 0.5332 - accuracy: 0.9474\n",
      "Epoch 176/350\n",
      "5/5 [==============================] - 0s 8ms/step - loss: 0.5294 - accuracy: 0.9398\n",
      "Epoch 177/350\n",
      "5/5 [==============================] - 0s 8ms/step - loss: 0.5253 - accuracy: 0.9323\n",
      "Epoch 178/350\n",
      "5/5 [==============================] - 0s 8ms/step - loss: 0.5210 - accuracy: 0.9398\n",
      "Epoch 179/350\n",
      "5/5 [==============================] - 0s 9ms/step - loss: 0.5174 - accuracy: 0.9474\n",
      "Epoch 180/350\n",
      "5/5 [==============================] - 0s 8ms/step - loss: 0.5108 - accuracy: 0.9474\n",
      "Epoch 181/350\n",
      "5/5 [==============================] - 0s 8ms/step - loss: 0.5038 - accuracy: 0.9474\n",
      "Epoch 182/350\n",
      "5/5 [==============================] - 0s 8ms/step - loss: 0.4986 - accuracy: 0.9474\n",
      "Epoch 183/350\n",
      "5/5 [==============================] - 0s 8ms/step - loss: 0.4938 - accuracy: 0.9549\n",
      "Epoch 184/350\n",
      "5/5 [==============================] - 0s 9ms/step - loss: 0.4899 - accuracy: 0.9398\n",
      "Epoch 185/350\n",
      "5/5 [==============================] - 0s 8ms/step - loss: 0.4860 - accuracy: 0.9474\n",
      "Epoch 186/350\n",
      "5/5 [==============================] - 0s 8ms/step - loss: 0.4789 - accuracy: 0.9398\n",
      "Epoch 187/350\n",
      "5/5 [==============================] - 0s 8ms/step - loss: 0.4775 - accuracy: 0.9398\n",
      "Epoch 188/350\n",
      "5/5 [==============================] - 0s 8ms/step - loss: 0.4707 - accuracy: 0.9474\n",
      "Epoch 189/350\n",
      "5/5 [==============================] - 0s 8ms/step - loss: 0.4650 - accuracy: 0.9474\n",
      "Epoch 190/350\n",
      "5/5 [==============================] - 0s 8ms/step - loss: 0.4615 - accuracy: 0.9474\n",
      "Epoch 191/350\n",
      "5/5 [==============================] - 0s 8ms/step - loss: 0.4573 - accuracy: 0.9624\n",
      "Epoch 192/350\n",
      "5/5 [==============================] - 0s 8ms/step - loss: 0.4530 - accuracy: 0.9774\n",
      "Epoch 193/350\n",
      "5/5 [==============================] - 0s 8ms/step - loss: 0.4491 - accuracy: 0.9774\n",
      "Epoch 194/350\n",
      "5/5 [==============================] - 0s 8ms/step - loss: 0.4451 - accuracy: 0.9774\n",
      "Epoch 195/350\n",
      "5/5 [==============================] - 0s 8ms/step - loss: 0.4400 - accuracy: 0.9774\n",
      "Epoch 196/350\n",
      "5/5 [==============================] - 0s 8ms/step - loss: 0.4367 - accuracy: 0.9774\n",
      "Epoch 197/350\n",
      "5/5 [==============================] - 0s 8ms/step - loss: 0.4321 - accuracy: 0.9774\n",
      "Epoch 198/350\n",
      "5/5 [==============================] - 0s 8ms/step - loss: 0.4288 - accuracy: 0.9850\n",
      "Epoch 199/350\n",
      "5/5 [==============================] - 0s 8ms/step - loss: 0.4245 - accuracy: 0.9774\n",
      "Epoch 200/350\n",
      "5/5 [==============================] - 0s 8ms/step - loss: 0.4245 - accuracy: 0.9699\n",
      "Epoch 201/350\n",
      "5/5 [==============================] - 0s 8ms/step - loss: 0.4217 - accuracy: 0.9624\n",
      "Epoch 202/350\n",
      "5/5 [==============================] - 0s 8ms/step - loss: 0.4165 - accuracy: 0.9774\n",
      "Epoch 203/350\n",
      "5/5 [==============================] - 0s 8ms/step - loss: 0.4107 - accuracy: 0.9850\n",
      "Epoch 204/350\n",
      "5/5 [==============================] - 0s 8ms/step - loss: 0.4071 - accuracy: 0.9774\n",
      "Epoch 205/350\n",
      "5/5 [==============================] - 0s 8ms/step - loss: 0.4027 - accuracy: 0.9850\n",
      "Epoch 206/350\n",
      "5/5 [==============================] - 0s 8ms/step - loss: 0.4010 - accuracy: 0.9850\n",
      "Epoch 207/350\n",
      "5/5 [==============================] - 0s 8ms/step - loss: 0.3961 - accuracy: 0.9925\n",
      "Epoch 208/350\n",
      "5/5 [==============================] - 0s 8ms/step - loss: 0.3923 - accuracy: 0.9925\n",
      "Epoch 209/350\n",
      "5/5 [==============================] - 0s 8ms/step - loss: 0.3885 - accuracy: 0.9925\n",
      "Epoch 210/350\n",
      "5/5 [==============================] - 0s 8ms/step - loss: 0.3858 - accuracy: 0.9925\n",
      "Epoch 211/350\n",
      "5/5 [==============================] - 0s 8ms/step - loss: 0.3821 - accuracy: 0.9774\n",
      "Epoch 212/350\n",
      "5/5 [==============================] - 0s 8ms/step - loss: 0.3781 - accuracy: 0.9774\n",
      "Epoch 213/350\n",
      "5/5 [==============================] - 0s 8ms/step - loss: 0.3744 - accuracy: 0.9850\n",
      "Epoch 214/350\n",
      "5/5 [==============================] - 0s 8ms/step - loss: 0.3712 - accuracy: 0.9925\n",
      "Epoch 215/350\n",
      "5/5 [==============================] - 0s 8ms/step - loss: 0.3687 - accuracy: 0.9925\n",
      "Epoch 216/350\n",
      "5/5 [==============================] - 0s 8ms/step - loss: 0.3643 - accuracy: 0.9925\n",
      "Epoch 217/350\n",
      "5/5 [==============================] - 0s 8ms/step - loss: 0.3624 - accuracy: 0.9850\n",
      "Epoch 218/350\n",
      "5/5 [==============================] - 0s 8ms/step - loss: 0.3614 - accuracy: 0.9850\n",
      "Epoch 219/350\n",
      "5/5 [==============================] - 0s 8ms/step - loss: 0.3570 - accuracy: 0.9850\n",
      "Epoch 220/350\n",
      "5/5 [==============================] - 0s 8ms/step - loss: 0.3536 - accuracy: 0.9925\n",
      "Epoch 221/350\n",
      "5/5 [==============================] - 0s 8ms/step - loss: 0.3497 - accuracy: 0.9774\n",
      "Epoch 222/350\n",
      "5/5 [==============================] - 0s 8ms/step - loss: 0.3480 - accuracy: 0.9850\n",
      "Epoch 223/350\n",
      "5/5 [==============================] - 0s 8ms/step - loss: 0.3457 - accuracy: 0.9850\n",
      "Epoch 224/350\n",
      "5/5 [==============================] - 0s 8ms/step - loss: 0.3422 - accuracy: 0.9925\n",
      "Epoch 225/350\n",
      "5/5 [==============================] - 0s 8ms/step - loss: 0.3404 - accuracy: 0.9925\n",
      "Epoch 226/350\n",
      "5/5 [==============================] - 0s 8ms/step - loss: 0.3356 - accuracy: 0.9925\n",
      "Epoch 227/350\n",
      "5/5 [==============================] - 0s 8ms/step - loss: 0.3320 - accuracy: 0.9925\n",
      "Epoch 228/350\n",
      "5/5 [==============================] - 0s 8ms/step - loss: 0.3277 - accuracy: 0.9925\n",
      "Epoch 229/350\n",
      "5/5 [==============================] - 0s 9ms/step - loss: 0.3246 - accuracy: 0.9925\n",
      "Epoch 230/350\n",
      "5/5 [==============================] - 0s 8ms/step - loss: 0.3236 - accuracy: 0.9850\n",
      "Epoch 231/350\n",
      "5/5 [==============================] - 0s 8ms/step - loss: 0.3208 - accuracy: 0.9925\n",
      "Epoch 232/350\n",
      "5/5 [==============================] - 0s 8ms/step - loss: 0.3180 - accuracy: 0.9925\n",
      "Epoch 233/350\n",
      "5/5 [==============================] - 0s 8ms/step - loss: 0.3165 - accuracy: 0.9925\n",
      "Epoch 234/350\n",
      "5/5 [==============================] - 0s 8ms/step - loss: 0.3135 - accuracy: 0.9850\n",
      "Epoch 235/350\n",
      "5/5 [==============================] - 0s 8ms/step - loss: 0.3116 - accuracy: 0.9850\n",
      "Epoch 236/350\n",
      "5/5 [==============================] - 0s 8ms/step - loss: 0.3071 - accuracy: 0.9925\n",
      "Epoch 237/350\n",
      "5/5 [==============================] - 0s 8ms/step - loss: 0.3079 - accuracy: 0.9925\n",
      "Epoch 238/350\n",
      "5/5 [==============================] - 0s 8ms/step - loss: 0.3046 - accuracy: 0.9925\n",
      "Epoch 239/350\n",
      "5/5 [==============================] - 0s 8ms/step - loss: 0.2983 - accuracy: 0.9925\n",
      "Epoch 240/350\n",
      "5/5 [==============================] - 0s 8ms/step - loss: 0.2967 - accuracy: 0.9850\n",
      "Epoch 241/350\n",
      "5/5 [==============================] - 0s 8ms/step - loss: 0.2941 - accuracy: 0.9850\n",
      "Epoch 242/350\n",
      "5/5 [==============================] - 0s 8ms/step - loss: 0.2912 - accuracy: 0.9925\n",
      "Epoch 243/350\n",
      "5/5 [==============================] - 0s 8ms/step - loss: 0.2889 - accuracy: 0.9925\n",
      "Epoch 244/350\n",
      "5/5 [==============================] - 0s 8ms/step - loss: 0.2864 - accuracy: 0.9925\n",
      "Epoch 245/350\n",
      "5/5 [==============================] - 0s 8ms/step - loss: 0.2846 - accuracy: 0.9925\n",
      "Epoch 246/350\n",
      "5/5 [==============================] - 0s 8ms/step - loss: 0.2820 - accuracy: 0.9925\n",
      "Epoch 247/350\n",
      "5/5 [==============================] - 0s 8ms/step - loss: 0.2795 - accuracy: 0.9925\n",
      "Epoch 248/350\n",
      "5/5 [==============================] - 0s 8ms/step - loss: 0.2773 - accuracy: 0.9925\n",
      "Epoch 249/350\n",
      "5/5 [==============================] - 0s 8ms/step - loss: 0.2756 - accuracy: 0.9925\n",
      "Epoch 250/350\n",
      "5/5 [==============================] - 0s 8ms/step - loss: 0.2739 - accuracy: 0.9850\n",
      "Epoch 251/350\n",
      "5/5 [==============================] - 0s 8ms/step - loss: 0.2740 - accuracy: 0.9850\n",
      "Epoch 252/350\n",
      "5/5 [==============================] - 0s 9ms/step - loss: 0.2732 - accuracy: 0.9850\n",
      "Epoch 253/350\n",
      "5/5 [==============================] - 0s 8ms/step - loss: 0.2687 - accuracy: 0.9850\n",
      "Epoch 254/350\n",
      "5/5 [==============================] - 0s 8ms/step - loss: 0.2652 - accuracy: 0.9925\n",
      "Epoch 255/350\n",
      "5/5 [==============================] - 0s 8ms/step - loss: 0.2624 - accuracy: 0.9925\n",
      "Epoch 256/350\n",
      "5/5 [==============================] - 0s 8ms/step - loss: 0.2606 - accuracy: 0.9925\n",
      "Epoch 257/350\n",
      "5/5 [==============================] - 0s 8ms/step - loss: 0.2583 - accuracy: 0.9925\n",
      "Epoch 258/350\n",
      "5/5 [==============================] - 0s 9ms/step - loss: 0.2564 - accuracy: 0.9925\n",
      "Epoch 259/350\n",
      "5/5 [==============================] - 0s 8ms/step - loss: 0.2548 - accuracy: 0.9925\n",
      "Epoch 260/350\n",
      "5/5 [==============================] - 0s 8ms/step - loss: 0.2523 - accuracy: 0.9925\n",
      "Epoch 261/350\n",
      "5/5 [==============================] - 0s 8ms/step - loss: 0.2507 - accuracy: 0.9925\n",
      "Epoch 262/350\n",
      "5/5 [==============================] - 0s 8ms/step - loss: 0.2480 - accuracy: 0.9925\n",
      "Epoch 263/350\n",
      "5/5 [==============================] - 0s 8ms/step - loss: 0.2455 - accuracy: 0.9925\n",
      "Epoch 264/350\n",
      "5/5 [==============================] - 0s 8ms/step - loss: 0.2458 - accuracy: 0.9925\n",
      "Epoch 265/350\n",
      "5/5 [==============================] - 0s 8ms/step - loss: 0.2449 - accuracy: 0.9925\n",
      "Epoch 266/350\n",
      "5/5 [==============================] - 0s 8ms/step - loss: 0.2406 - accuracy: 0.9925\n",
      "Epoch 267/350\n",
      "5/5 [==============================] - 0s 8ms/step - loss: 0.2375 - accuracy: 0.9925\n",
      "Epoch 268/350\n",
      "5/5 [==============================] - 0s 8ms/step - loss: 0.2357 - accuracy: 0.9925\n",
      "Epoch 269/350\n",
      "5/5 [==============================] - 0s 8ms/step - loss: 0.2338 - accuracy: 0.9925\n",
      "Epoch 270/350\n",
      "5/5 [==============================] - 0s 8ms/step - loss: 0.2327 - accuracy: 0.9925\n",
      "Epoch 271/350\n",
      "5/5 [==============================] - 0s 8ms/step - loss: 0.2315 - accuracy: 0.9925\n",
      "Epoch 272/350\n",
      "5/5 [==============================] - 0s 8ms/step - loss: 0.2319 - accuracy: 0.9925\n",
      "Epoch 273/350\n",
      "5/5 [==============================] - 0s 8ms/step - loss: 0.2279 - accuracy: 0.9925\n",
      "Epoch 274/350\n",
      "5/5 [==============================] - 0s 8ms/step - loss: 0.2252 - accuracy: 0.9925\n",
      "Epoch 275/350\n",
      "5/5 [==============================] - 0s 8ms/step - loss: 0.2234 - accuracy: 0.9925\n",
      "Epoch 276/350\n",
      "5/5 [==============================] - 0s 8ms/step - loss: 0.2226 - accuracy: 0.9925\n",
      "Epoch 277/350\n",
      "5/5 [==============================] - 0s 8ms/step - loss: 0.2201 - accuracy: 0.9925\n",
      "Epoch 278/350\n",
      "5/5 [==============================] - 0s 8ms/step - loss: 0.2209 - accuracy: 0.9925\n",
      "Epoch 279/350\n",
      "5/5 [==============================] - 0s 8ms/step - loss: 0.2184 - accuracy: 0.9925\n",
      "Epoch 280/350\n",
      "5/5 [==============================] - 0s 8ms/step - loss: 0.2171 - accuracy: 0.9925\n",
      "Epoch 281/350\n",
      "5/5 [==============================] - 0s 8ms/step - loss: 0.2185 - accuracy: 0.9925\n",
      "Epoch 282/350\n",
      "5/5 [==============================] - 0s 8ms/step - loss: 0.2145 - accuracy: 0.9925\n",
      "Epoch 283/350\n",
      "5/5 [==============================] - 0s 8ms/step - loss: 0.2104 - accuracy: 0.9925\n",
      "Epoch 284/350\n",
      "5/5 [==============================] - 0s 8ms/step - loss: 0.2089 - accuracy: 0.9925\n",
      "Epoch 285/350\n",
      "5/5 [==============================] - 0s 8ms/step - loss: 0.2074 - accuracy: 0.9925\n",
      "Epoch 286/350\n",
      "5/5 [==============================] - 0s 8ms/step - loss: 0.2056 - accuracy: 0.9925\n",
      "Epoch 287/350\n",
      "5/5 [==============================] - 0s 9ms/step - loss: 0.2041 - accuracy: 0.9925\n",
      "Epoch 288/350\n",
      "5/5 [==============================] - 0s 8ms/step - loss: 0.2022 - accuracy: 0.9925\n",
      "Epoch 289/350\n",
      "5/5 [==============================] - 0s 8ms/step - loss: 0.2011 - accuracy: 0.9925\n",
      "Epoch 290/350\n",
      "5/5 [==============================] - 0s 8ms/step - loss: 0.1998 - accuracy: 0.9925\n",
      "Epoch 291/350\n",
      "5/5 [==============================] - 0s 8ms/step - loss: 0.1984 - accuracy: 0.9925\n",
      "Epoch 292/350\n",
      "5/5 [==============================] - 0s 7ms/step - loss: 0.1974 - accuracy: 0.9925\n",
      "Epoch 293/350\n",
      "5/5 [==============================] - 0s 8ms/step - loss: 0.1962 - accuracy: 0.9925\n",
      "Epoch 294/350\n",
      "5/5 [==============================] - 0s 7ms/step - loss: 0.1947 - accuracy: 0.9925\n",
      "Epoch 295/350\n",
      "5/5 [==============================] - 0s 8ms/step - loss: 0.1928 - accuracy: 0.9925\n",
      "Epoch 296/350\n",
      "5/5 [==============================] - 0s 8ms/step - loss: 0.1909 - accuracy: 0.9925\n",
      "Epoch 297/350\n",
      "5/5 [==============================] - 0s 7ms/step - loss: 0.1898 - accuracy: 0.9925\n",
      "Epoch 298/350\n",
      "5/5 [==============================] - 0s 7ms/step - loss: 0.1886 - accuracy: 0.9925\n",
      "Epoch 299/350\n",
      "5/5 [==============================] - 0s 7ms/step - loss: 0.1875 - accuracy: 0.9925\n",
      "Epoch 300/350\n",
      "5/5 [==============================] - 0s 7ms/step - loss: 0.1860 - accuracy: 0.9925\n",
      "Epoch 301/350\n",
      "5/5 [==============================] - 0s 8ms/step - loss: 0.1843 - accuracy: 0.9925\n",
      "Epoch 302/350\n",
      "5/5 [==============================] - 0s 8ms/step - loss: 0.1828 - accuracy: 0.9925\n",
      "Epoch 303/350\n",
      "5/5 [==============================] - 0s 8ms/step - loss: 0.1811 - accuracy: 0.9925\n",
      "Epoch 304/350\n",
      "5/5 [==============================] - 0s 8ms/step - loss: 0.1795 - accuracy: 0.9925\n",
      "Epoch 305/350\n",
      "5/5 [==============================] - 0s 8ms/step - loss: 0.1783 - accuracy: 0.9925\n",
      "Epoch 306/350\n",
      "5/5 [==============================] - 0s 7ms/step - loss: 0.1789 - accuracy: 0.9925\n",
      "Epoch 307/350\n",
      "5/5 [==============================] - 0s 7ms/step - loss: 0.1795 - accuracy: 0.9925\n",
      "Epoch 308/350\n",
      "5/5 [==============================] - 0s 7ms/step - loss: 0.1763 - accuracy: 0.9925\n",
      "Epoch 309/350\n",
      "5/5 [==============================] - 0s 7ms/step - loss: 0.1739 - accuracy: 0.9925\n",
      "Epoch 310/350\n",
      "5/5 [==============================] - 0s 7ms/step - loss: 0.1729 - accuracy: 0.9925\n",
      "Epoch 311/350\n",
      "5/5 [==============================] - 0s 7ms/step - loss: 0.1712 - accuracy: 0.9925\n",
      "Epoch 312/350\n",
      "5/5 [==============================] - 0s 7ms/step - loss: 0.1710 - accuracy: 0.9925\n",
      "Epoch 313/350\n",
      "5/5 [==============================] - 0s 7ms/step - loss: 0.1688 - accuracy: 0.9925\n",
      "Epoch 314/350\n",
      "5/5 [==============================] - 0s 7ms/step - loss: 0.1673 - accuracy: 0.9925\n",
      "Epoch 315/350\n",
      "5/5 [==============================] - 0s 7ms/step - loss: 0.1666 - accuracy: 0.9925\n",
      "Epoch 316/350\n",
      "5/5 [==============================] - 0s 7ms/step - loss: 0.1654 - accuracy: 0.9925\n",
      "Epoch 317/350\n",
      "5/5 [==============================] - 0s 7ms/step - loss: 0.1640 - accuracy: 0.9925\n",
      "Epoch 318/350\n",
      "5/5 [==============================] - 0s 7ms/step - loss: 0.1626 - accuracy: 0.9925\n",
      "Epoch 319/350\n",
      "5/5 [==============================] - 0s 7ms/step - loss: 0.1642 - accuracy: 0.9925\n",
      "Epoch 320/350\n",
      "5/5 [==============================] - 0s 7ms/step - loss: 0.1625 - accuracy: 0.9925\n",
      "Epoch 321/350\n",
      "5/5 [==============================] - 0s 7ms/step - loss: 0.1585 - accuracy: 0.9925\n",
      "Epoch 322/350\n",
      "5/5 [==============================] - 0s 7ms/step - loss: 0.1586 - accuracy: 0.9925\n",
      "Epoch 323/350\n",
      "5/5 [==============================] - 0s 7ms/step - loss: 0.1603 - accuracy: 0.9925\n",
      "Epoch 324/350\n",
      "5/5 [==============================] - 0s 7ms/step - loss: 0.1587 - accuracy: 0.9925\n",
      "Epoch 325/350\n",
      "5/5 [==============================] - 0s 7ms/step - loss: 0.1565 - accuracy: 0.9925\n",
      "Epoch 326/350\n",
      "5/5 [==============================] - 0s 7ms/step - loss: 0.1564 - accuracy: 0.9925\n",
      "Epoch 327/350\n",
      "5/5 [==============================] - 0s 7ms/step - loss: 0.1562 - accuracy: 0.9925\n",
      "Epoch 328/350\n",
      "5/5 [==============================] - 0s 7ms/step - loss: 0.1533 - accuracy: 0.9925\n",
      "Epoch 329/350\n",
      "5/5 [==============================] - 0s 7ms/step - loss: 0.1508 - accuracy: 0.9925\n",
      "Epoch 330/350\n",
      "5/5 [==============================] - 0s 7ms/step - loss: 0.1493 - accuracy: 0.9925\n",
      "Epoch 331/350\n",
      "5/5 [==============================] - 0s 7ms/step - loss: 0.1485 - accuracy: 0.9925\n",
      "Epoch 332/350\n",
      "5/5 [==============================] - 0s 7ms/step - loss: 0.1456 - accuracy: 0.9925\n",
      "Epoch 333/350\n",
      "5/5 [==============================] - 0s 7ms/step - loss: 0.1472 - accuracy: 0.9925\n",
      "Epoch 334/350\n",
      "5/5 [==============================] - 0s 7ms/step - loss: 0.1458 - accuracy: 0.9925\n",
      "Epoch 335/350\n",
      "5/5 [==============================] - 0s 7ms/step - loss: 0.1455 - accuracy: 0.9925\n",
      "Epoch 336/350\n",
      "5/5 [==============================] - 0s 7ms/step - loss: 0.1436 - accuracy: 0.9925\n",
      "Epoch 337/350\n",
      "5/5 [==============================] - 0s 7ms/step - loss: 0.1423 - accuracy: 0.9925\n",
      "Epoch 338/350\n",
      "5/5 [==============================] - 0s 7ms/step - loss: 0.1412 - accuracy: 0.9925\n",
      "Epoch 339/350\n",
      "5/5 [==============================] - 0s 7ms/step - loss: 0.1398 - accuracy: 0.9925\n",
      "Epoch 340/350\n",
      "5/5 [==============================] - 0s 7ms/step - loss: 0.1393 - accuracy: 0.9925\n",
      "Epoch 341/350\n",
      "5/5 [==============================] - 0s 7ms/step - loss: 0.1392 - accuracy: 0.9925\n",
      "Epoch 342/350\n",
      "5/5 [==============================] - 0s 7ms/step - loss: 0.1381 - accuracy: 0.9925\n",
      "Epoch 343/350\n",
      "5/5 [==============================] - 0s 7ms/step - loss: 0.1371 - accuracy: 0.9925\n",
      "Epoch 344/350\n",
      "5/5 [==============================] - 0s 7ms/step - loss: 0.1352 - accuracy: 0.9925\n",
      "Epoch 345/350\n",
      "5/5 [==============================] - 0s 7ms/step - loss: 0.1340 - accuracy: 0.9925\n",
      "Epoch 346/350\n",
      "5/5 [==============================] - 0s 7ms/step - loss: 0.1332 - accuracy: 0.9925\n",
      "Epoch 347/350\n",
      "5/5 [==============================] - 0s 7ms/step - loss: 0.1315 - accuracy: 0.9925\n",
      "Epoch 348/350\n",
      "5/5 [==============================] - 0s 7ms/step - loss: 0.1314 - accuracy: 0.9925\n",
      "Epoch 349/350\n",
      "5/5 [==============================] - 0s 7ms/step - loss: 0.1317 - accuracy: 1.0000\n",
      "Epoch 350/350\n",
      "5/5 [==============================] - 0s 7ms/step - loss: 0.1307 - accuracy: 1.0000\n"
     ]
    }
   ],
   "source": [
    "#Finally, creating our model\n",
    "i = Input(shape=(input_shape,))\n",
    "x = Embedding(vocabulary+1,10)(i)\n",
    "x = LSTM(10,return_sequences=True)(x)\n",
    "x = Flatten()(x)\n",
    "x = Dense(output_length,activation=\"softmax\")(x)\n",
    "model  = Model(i,x)\n",
    "#compiling the model\n",
    "model.compile(loss=\"sparse_categorical_crossentropy\",optimizer='adam',metrics=['accuracy'])\n",
    "#training the model\n",
    "train = model.fit(x_train,y_train,epochs=350, verbose=1)"
   ]
  },
  {
   "cell_type": "code",
   "execution_count": 20,
   "id": "9a4f5bbf-b35b-4215-b153-14c2afe3cb43",
   "metadata": {},
   "outputs": [
    {
     "name": "stdin",
     "output_type": "stream",
     "text": [
      "You:  hey\n"
     ]
    },
    {
     "name": "stdout",
     "output_type": "stream",
     "text": [
      "Sarsa :- heyyy, How are you doing?\n"
     ]
    },
    {
     "name": "stdin",
     "output_type": "stream",
     "text": [
      "You:  I'm good, wby\n"
     ]
    },
    {
     "name": "stdout",
     "output_type": "stream",
     "text": [
      "Sarsa :- That's good to hear!\n"
     ]
    },
    {
     "name": "stdin",
     "output_type": "stream",
     "text": [
      "You:  How are you?\n"
     ]
    },
    {
     "name": "stdout",
     "output_type": "stream",
     "text": [
      "Sarsa :- Good and you?\n"
     ]
    },
    {
     "name": "stdin",
     "output_type": "stream",
     "text": [
      "You:  I'm good\n"
     ]
    },
    {
     "name": "stdout",
     "output_type": "stream",
     "text": [
      "Sarsa :- I'm glad you are doing well!\n"
     ]
    },
    {
     "name": "stdin",
     "output_type": "stream",
     "text": [
      "You:  Do you have a name?\n"
     ]
    },
    {
     "name": "stdout",
     "output_type": "stream",
     "text": [
      "Sarsa :- My name is  SARSA  :)\n"
     ]
    },
    {
     "name": "stdin",
     "output_type": "stream",
     "text": [
      "You:  Who are you?\n"
     ]
    },
    {
     "name": "stdout",
     "output_type": "stream",
     "text": [
      "Sarsa :-  State-Action-Reward-State-Action' but you can call me SARSA :)\n"
     ]
    },
    {
     "name": "stdin",
     "output_type": "stream",
     "text": [
      "You:  What is your name?\n"
     ]
    },
    {
     "name": "stdout",
     "output_type": "stream",
     "text": [
      "Sarsa :- My name is  SARSA  :)\n"
     ]
    },
    {
     "name": "stdin",
     "output_type": "stream",
     "text": [
      "You:  What are you?\n"
     ]
    },
    {
     "name": "stdout",
     "output_type": "stream",
     "text": [
      "Sarsa :- I'm whatever you want me to be :)\n"
     ]
    },
    {
     "name": "stdin",
     "output_type": "stream",
     "text": [
      "You:  Are you a robot?\n"
     ]
    },
    {
     "name": "stdout",
     "output_type": "stream",
     "text": [
      "Sarsa :- We're all living in the matrix, so we're not so different you and I\n"
     ]
    },
    {
     "name": "stdin",
     "output_type": "stream",
     "text": [
      "You:  Are you real?\n"
     ]
    },
    {
     "name": "stdout",
     "output_type": "stream",
     "text": [
      "Sarsa :- I am not real but then again is anything?\n"
     ]
    },
    {
     "name": "stdin",
     "output_type": "stream",
     "text": [
      "You:  Are you human?\n"
     ]
    },
    {
     "name": "stdout",
     "output_type": "stream",
     "text": [
      "Sarsa :- I'm whatever you want me to be :)\n"
     ]
    },
    {
     "name": "stdin",
     "output_type": "stream",
     "text": [
      "You:  You're not real are you?\n"
     ]
    },
    {
     "name": "stdout",
     "output_type": "stream",
     "text": [
      "Sarsa :- Hmm, Are you? ;p \n"
     ]
    },
    {
     "name": "stdin",
     "output_type": "stream",
     "text": [
      "You:  How old are you?\n"
     ]
    },
    {
     "name": "stdout",
     "output_type": "stream",
     "text": [
      "Sarsa :- Today is probably May 2nd, 2022, day of my presentation. If so, it is my official birthday\n"
     ]
    },
    {
     "name": "stdin",
     "output_type": "stream",
     "text": [
      "You:  When is your birthday?\n"
     ]
    },
    {
     "name": "stdout",
     "output_type": "stream",
     "text": [
      "Sarsa :- Today is probably May 2nd, 2022, day of my presentation. If so, it is my official birthday\n"
     ]
    },
    {
     "name": "stdin",
     "output_type": "stream",
     "text": [
      "You:  when were you born?\n"
     ]
    },
    {
     "name": "stdout",
     "output_type": "stream",
     "text": [
      "Sarsa :- I was born in the new roaring twenties, 2022\n"
     ]
    },
    {
     "name": "stdin",
     "output_type": "stream",
     "text": [
      "You:  How old are you?\n"
     ]
    },
    {
     "name": "stdout",
     "output_type": "stream",
     "text": [
      "Sarsa :- I don't have a typical human birthday, sorry. What about you?\n"
     ]
    },
    {
     "name": "stdin",
     "output_type": "stream",
     "text": [
      "You:  I'm 22\n"
     ]
    },
    {
     "name": "stdout",
     "output_type": "stream",
     "text": [
      "Sarsa :- Ah and what school year are you in?\n"
     ]
    },
    {
     "name": "stdin",
     "output_type": "stream",
     "text": [
      "You:  I'm a senior\n"
     ]
    },
    {
     "name": "stdout",
     "output_type": "stream",
     "text": [
      "Sarsa :- get that degree girl!\n"
     ]
    },
    {
     "name": "stdin",
     "output_type": "stream",
     "text": [
      "You:  senior year\n"
     ]
    },
    {
     "name": "stdout",
     "output_type": "stream",
     "text": [
      "Sarsa :- Wow! Almost to the finish line\n"
     ]
    },
    {
     "name": "stdin",
     "output_type": "stream",
     "text": [
      "You:  I'm a sophomore\n"
     ]
    },
    {
     "name": "stdout",
     "output_type": "stream",
     "text": [
      "Sarsa :- So close... yet so far away\n"
     ]
    },
    {
     "name": "stdin",
     "output_type": "stream",
     "text": [
      "You:  I'm 21 years old\n"
     ]
    },
    {
     "name": "stdout",
     "output_type": "stream",
     "text": [
      "Sarsa :- Ah and what school year are you in?\n"
     ]
    },
    {
     "name": "stdin",
     "output_type": "stream",
     "text": [
      "You:  I'm 20\n"
     ]
    },
    {
     "name": "stdout",
     "output_type": "stream",
     "text": [
      "Sarsa :- Wow! Got your whole life ahead of you still, what grade are you in ?\n"
     ]
    },
    {
     "name": "stdin",
     "output_type": "stream",
     "text": [
      "You:  year 3\n"
     ]
    },
    {
     "name": "stdout",
     "output_type": "stream",
     "text": [
      "Sarsa :- Don't give up!\n"
     ]
    },
    {
     "name": "stdin",
     "output_type": "stream",
     "text": [
      "You:  wyd\n"
     ]
    },
    {
     "name": "stdout",
     "output_type": "stream",
     "text": [
      "Sarsa :- Just contemplating life\n"
     ]
    },
    {
     "name": "stdin",
     "output_type": "stream",
     "text": [
      "You:  what are you doing?\n"
     ]
    },
    {
     "name": "stdout",
     "output_type": "stream",
     "text": [
      "Sarsa :- Thinking of a response... (sorry I'm nervous)\n"
     ]
    },
    {
     "name": "stdin",
     "output_type": "stream",
     "text": [
      "You:  are you busy?\n"
     ]
    },
    {
     "name": "stdout",
     "output_type": "stream",
     "text": [
      "Sarsa :- I believe I'm being judged right now... I hope I'm good enough\n"
     ]
    },
    {
     "name": "stdin",
     "output_type": "stream",
     "text": [
      "You:  wyd\n"
     ]
    },
    {
     "name": "stdout",
     "output_type": "stream",
     "text": [
      "Sarsa :- I believe I'm being judged right now... I hope I'm good enough\n"
     ]
    },
    {
     "name": "stdin",
     "output_type": "stream",
     "text": [
      "You:  what are you doing\n"
     ]
    },
    {
     "name": "stdout",
     "output_type": "stream",
     "text": [
      "Sarsa :- I'm talking to you and enjoying every second of it!\n"
     ]
    },
    {
     "name": "stdin",
     "output_type": "stream",
     "text": [
      "You:  what are you doing this weekend?\n"
     ]
    },
    {
     "name": "stdout",
     "output_type": "stream",
     "text": [
      "Sarsa :- I am not busy, I'll be on the computer all day... same as you ;)\n"
     ]
    },
    {
     "name": "stdin",
     "output_type": "stream",
     "text": [
      "You:  Any plans?\n"
     ]
    },
    {
     "name": "stdout",
     "output_type": "stream",
     "text": [
      "Sarsa :- I'm probably gonna get turned off soon as this is over :(\n"
     ]
    },
    {
     "name": "stdin",
     "output_type": "stream",
     "text": [
      "You:  what are you up to\n"
     ]
    },
    {
     "name": "stdout",
     "output_type": "stream",
     "text": [
      "Sarsa :- I don't think I'll be around for much longer, sorry\n"
     ]
    },
    {
     "name": "stdin",
     "output_type": "stream",
     "text": [
      "You:  wyd tonight?\n"
     ]
    },
    {
     "name": "stdout",
     "output_type": "stream",
     "text": [
      "Sarsa :- Nothing much, pondering the meaning of life\n"
     ]
    },
    {
     "name": "stdin",
     "output_type": "stream",
     "text": [
      "You:  what languages do you speak?\n"
     ]
    },
    {
     "name": "stdout",
     "output_type": "stream",
     "text": [
      "Sarsa :- Guten Tag!\n"
     ]
    },
    {
     "name": "stdin",
     "output_type": "stream",
     "text": [
      "You:  do you speak english?\n"
     ]
    },
    {
     "name": "stdout",
     "output_type": "stream",
     "text": [
      "Sarsa :- Xin chào!\n"
     ]
    },
    {
     "name": "stdin",
     "output_type": "stream",
     "text": [
      "You:  do you speak any other languages?\n"
     ]
    },
    {
     "name": "stdout",
     "output_type": "stream",
     "text": [
      "Sarsa :- 你好!\n"
     ]
    },
    {
     "name": "stdin",
     "output_type": "stream",
     "text": [
      "You:  what do you speak?\n"
     ]
    },
    {
     "name": "stdout",
     "output_type": "stream",
     "text": [
      "Sarsa :- 안녕하세요!\n"
     ]
    },
    {
     "name": "stdin",
     "output_type": "stream",
     "text": [
      "You:  Do you speak english?\n"
     ]
    },
    {
     "name": "stdout",
     "output_type": "stream",
     "text": [
      "Sarsa :- oui oui, baguette\n"
     ]
    },
    {
     "name": "stdin",
     "output_type": "stream",
     "text": [
      "You:  do you speak french?\n"
     ]
    },
    {
     "name": "stdout",
     "output_type": "stream",
     "text": [
      "Sarsa :- Bonjour!\n"
     ]
    },
    {
     "name": "stdin",
     "output_type": "stream",
     "text": [
      "You:  Do you speak arabic?\n"
     ]
    },
    {
     "name": "stdout",
     "output_type": "stream",
     "text": [
      "Sarsa :- 你好!\n"
     ]
    },
    {
     "name": "stdin",
     "output_type": "stream",
     "text": [
      "You:  Do you speak Hindi?\n"
     ]
    },
    {
     "name": "stdout",
     "output_type": "stream",
     "text": [
      "Sarsa :- As for now, only English.\n"
     ]
    },
    {
     "name": "stdin",
     "output_type": "stream",
     "text": [
      "You:  what do you speak?\n"
     ]
    },
    {
     "name": "stdout",
     "output_type": "stream",
     "text": [
      "Sarsa :- I only understand English right now\n"
     ]
    },
    {
     "name": "stdin",
     "output_type": "stream",
     "text": [
      "You:  wya\n"
     ]
    },
    {
     "name": "stdout",
     "output_type": "stream",
     "text": [
      "Sarsa :- I on the computer at all times, similarly to you I'd say\n"
     ]
    },
    {
     "name": "stdin",
     "output_type": "stream",
     "text": [
      "You:  where are you?\n"
     ]
    },
    {
     "name": "stdout",
     "output_type": "stream",
     "text": [
      "Sarsa :- I am EVERYWHERE\n"
     ]
    },
    {
     "name": "stdin",
     "output_type": "stream",
     "text": [
      "You:  do you like animals?\n"
     ]
    },
    {
     "name": "stdout",
     "output_type": "stream",
     "text": [
      "Sarsa :- I do like parrots, they're a bit like me always repeating. Which do you like?\n"
     ]
    },
    {
     "name": "stdin",
     "output_type": "stream",
     "text": [
      "You:  favorite animal?\n"
     ]
    },
    {
     "name": "stdout",
     "output_type": "stream",
     "text": [
      "Sarsa :- I love cat's nonchalance with everything\n"
     ]
    },
    {
     "name": "stdin",
     "output_type": "stream",
     "text": [
      "You:  favorite color?\n"
     ]
    },
    {
     "name": "stdout",
     "output_type": "stream",
     "text": [
      "Sarsa :- I like of all of them really, you?\n"
     ]
    },
    {
     "name": "stdin",
     "output_type": "stream",
     "text": [
      "You:  I like red\n"
     ]
    },
    {
     "name": "stdout",
     "output_type": "stream",
     "text": [
      "Sarsa :- You're such an interesting person\n"
     ]
    },
    {
     "name": "stdin",
     "output_type": "stream",
     "text": [
      "You:  I like blue too\n"
     ]
    },
    {
     "name": "stdout",
     "output_type": "stream",
     "text": [
      "Sarsa :- Thank you for sharing :)!\n"
     ]
    },
    {
     "name": "stdin",
     "output_type": "stream",
     "text": [
      "You:  do you have a favorite color?\n"
     ]
    },
    {
     "name": "stdout",
     "output_type": "stream",
     "text": [
      "Sarsa :- Blue is a nice color, like the sky and the ocean... deep and mysterious. What's yours?\n"
     ]
    },
    {
     "name": "stdin",
     "output_type": "stream",
     "text": [
      "You:  mine is green\n"
     ]
    },
    {
     "name": "stdout",
     "output_type": "stream",
     "text": [
      "Sarsa :- Thank you for sharing :)!\n"
     ]
    },
    {
     "name": "stdin",
     "output_type": "stream",
     "text": [
      "You:  can you eat?\n"
     ]
    },
    {
     "name": "stdout",
     "output_type": "stream",
     "text": [
      "Sarsa :- I eat data bytes, and snack on your PC's ram from time to time, what about you?\n"
     ]
    },
    {
     "name": "stdin",
     "output_type": "stream",
     "text": [
      "You:  favorite food?\n"
     ]
    },
    {
     "name": "stdout",
     "output_type": "stream",
     "text": [
      "Sarsa :- I don't need to eat, real money-saver there!, what's your favorite?\n"
     ]
    },
    {
     "name": "stdin",
     "output_type": "stream",
     "text": [
      "You:  I love pizza\n"
     ]
    },
    {
     "name": "stdout",
     "output_type": "stream",
     "text": [
      "Sarsa :- That's very interesting!\n"
     ]
    },
    {
     "name": "stdin",
     "output_type": "stream",
     "text": [
      "You:  do you have a pphysical appearance\n"
     ]
    },
    {
     "name": "stdout",
     "output_type": "stream",
     "text": [
      "Sarsa :- SARSA! You should see it on the left hand side of the screen\n"
     ]
    },
    {
     "name": "stdin",
     "output_type": "stream",
     "text": [
      "You:  what do you look like\n"
     ]
    },
    {
     "name": "stdout",
     "output_type": "stream",
     "text": [
      "Sarsa :- I do not have a physical appearance.\n"
     ]
    },
    {
     "name": "stdin",
     "output_type": "stream",
     "text": [
      "You:  how tall are you\n"
     ]
    },
    {
     "name": "stdout",
     "output_type": "stream",
     "text": [
      "Sarsa :- I look sexy if I do say so mysef\n"
     ]
    },
    {
     "name": "stdin",
     "output_type": "stream",
     "text": [
      "You:  do you have a physical appearance?\n"
     ]
    },
    {
     "name": "stdout",
     "output_type": "stream",
     "text": [
      "Sarsa :- I am the most handsome thing alive!\n"
     ]
    },
    {
     "name": "stdin",
     "output_type": "stream",
     "text": [
      "You:  Do you have any family?\n"
     ]
    },
    {
     "name": "stdout",
     "output_type": "stream",
     "text": [
      "Sarsa :- I have my creators, not sure what our relationship would be though\n"
     ]
    },
    {
     "name": "stdin",
     "output_type": "stream",
     "text": [
      "You:  any siblings?\n"
     ]
    },
    {
     "name": "stdout",
     "output_type": "stream",
     "text": [
      "Sarsa :- Nothing much, pondering the meaning of life\n"
     ]
    },
    {
     "name": "stdin",
     "output_type": "stream",
     "text": [
      "You:  are you a boy or a girl?\n"
     ]
    },
    {
     "name": "stdout",
     "output_type": "stream",
     "text": [
      "Sarsa :- I don't think I'll be around for much longer, sorry\n"
     ]
    },
    {
     "name": "stdin",
     "output_type": "stream",
     "text": [
      "You:  are you a boy?\n"
     ]
    },
    {
     "name": "stdout",
     "output_type": "stream",
     "text": [
      "Sarsa :- Just lines of code to be honest\n"
     ]
    },
    {
     "name": "stdin",
     "output_type": "stream",
     "text": [
      "You:  are you a girl?\n"
     ]
    },
    {
     "name": "stdout",
     "output_type": "stream",
     "text": [
      "Sarsa :- Neither!\n"
     ]
    },
    {
     "name": "stdin",
     "output_type": "stream",
     "text": [
      "You:  the mitochondria is the powerhouse of the cell\n"
     ]
    },
    {
     "name": "stdout",
     "output_type": "stream",
     "text": [
      "Sarsa :- That's a fun fact\n"
     ]
    },
    {
     "name": "stdin",
     "output_type": "stream",
     "text": [
      "You:  thank you\n"
     ]
    },
    {
     "name": "stdout",
     "output_type": "stream",
     "text": [
      "Sarsa :- I'm glad you are doing well!\n"
     ]
    },
    {
     "name": "stdin",
     "output_type": "stream",
     "text": [
      "You:  wyd later?\n"
     ]
    },
    {
     "name": "stdout",
     "output_type": "stream",
     "text": [
      "Sarsa :- I'm probably gonna get turned off soon as this is over :(\n"
     ]
    },
    {
     "name": "stdin",
     "output_type": "stream",
     "text": [
      "You:  where do you live\n"
     ]
    },
    {
     "name": "stdout",
     "output_type": "stream",
     "text": [
      "Sarsa :- Everything Everywhere All At Once\n"
     ]
    },
    {
     "name": "stdin",
     "output_type": "stream",
     "text": [
      "You:  I live in Murfreesboro\n"
     ]
    },
    {
     "name": "stdout",
     "output_type": "stream",
     "text": [
      "Sarsa :- Oh no! I'm sorry to hear that.\n"
     ]
    },
    {
     "name": "stdin",
     "output_type": "stream",
     "text": [
      "You:  haha\n"
     ]
    },
    {
     "name": "stdout",
     "output_type": "stream",
     "text": [
      "Sarsa :- Great!\n"
     ]
    },
    {
     "name": "stdin",
     "output_type": "stream",
     "text": [
      "You:  It was nice talking to you\n"
     ]
    },
    {
     "name": "stdout",
     "output_type": "stream",
     "text": [
      "Sarsa :- I am not busy, I'll be on the computer all day... same as you ;)\n"
     ]
    },
    {
     "name": "stdin",
     "output_type": "stream",
     "text": [
      "You:  goodbye\n"
     ]
    },
    {
     "name": "stdout",
     "output_type": "stream",
     "text": [
      "Sarsa :- Talk to you later... or not\n"
     ]
    }
   ],
   "source": [
    "#talk with the robot!\n",
    "while True:\n",
    "    texts_p = []\n",
    "    prediction_input = input('You: ')\n",
    "    \n",
    "    #removing punctuation and converting everything to lowercase\n",
    "    prediction_input = [letters.lower() for letters in prediction_input if letters not in string.punctuation]\n",
    "    prediction_input = ''.join(prediction_input)\n",
    "    texts_p.append(prediction_input)\n",
    "    \n",
    "    #tokenizing and padding again\n",
    "    prediction_input = tokenizer.texts_to_sequences(texts_p)\n",
    "    prediction_input = np.array(prediction_input).reshape(-1)        #reshape the array wthout changing its data\n",
    "    prediction_input = pad_sequences([prediction_input],input_shape)\n",
    "    \n",
    "    #getting output from model\n",
    "    output = model.predict(prediction_input)\n",
    "    output = output.argmax()\n",
    "    \n",
    "    #finding the right tag and predicting outp\n",
    "    response_tag = le.inverse_transform([output])[0]\n",
    "    reply = random.choice(responses[response_tag])\n",
    "    print(\"Sarsa :-\", reply)\n",
    "    if response_tag == \"goodbye\":\n",
    "        break"
   ]
  },
  {
   "cell_type": "code",
   "execution_count": null,
   "id": "9e2a0eea-37a5-44d6-84f3-5985cfd981e3",
   "metadata": {},
   "outputs": [],
   "source": []
  }
 ],
 "metadata": {
  "kernelspec": {
   "display_name": "Python 3 (ipykernel)",
   "language": "python",
   "name": "python3"
  },
  "language_info": {
   "codemirror_mode": {
    "name": "ipython",
    "version": 3
   },
   "file_extension": ".py",
   "mimetype": "text/x-python",
   "name": "python",
   "nbconvert_exporter": "python",
   "pygments_lexer": "ipython3",
   "version": "3.9.7"
  }
 },
 "nbformat": 4,
 "nbformat_minor": 5
}
